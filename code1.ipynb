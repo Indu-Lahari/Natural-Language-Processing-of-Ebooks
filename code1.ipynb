{
  "nbformat": 4,
  "nbformat_minor": 0,
  "metadata": {
    "colab": {
      "provenance": []
    },
    "kernelspec": {
      "name": "python3",
      "display_name": "Python 3"
    },
    "language_info": {
      "name": "python"
    }
  },
  "cells": [
    {
      "cell_type": "markdown",
      "source": [
        "**Load the book**"
      ],
      "metadata": {
        "id": "a1BFyKyWOoEB"
      }
    },
    {
      "cell_type": "code",
      "execution_count": null,
      "metadata": {
        "id": "0k9FF3REJy_x"
      },
      "outputs": [],
      "source": [
        "with open('miracle_in_the_andes.txt', 'r') as f:\n",
        "    book = f.read()"
      ]
    },
    {
      "cell_type": "code",
      "source": [
        "type(book)"
      ],
      "metadata": {
        "id": "A-8nJqD_NgBe"
      },
      "execution_count": null,
      "outputs": []
    },
    {
      "cell_type": "markdown",
      "source": [
        "**How many Chapters?**"
      ],
      "metadata": {
        "id": "0ZkdjQHsPID3"
      }
    },
    {
      "cell_type": "markdown",
      "source": [
        "using string methods"
      ],
      "metadata": {
        "id": "7dEahbQPPVCZ"
      }
    },
    {
      "cell_type": "code",
      "source": [
        "book.count('Chapter')"
      ],
      "metadata": {
        "id": "LXzZKGjVNpcS"
      },
      "execution_count": null,
      "outputs": []
    },
    {
      "cell_type": "markdown",
      "source": [
        "using regular expressions or regex"
      ],
      "metadata": {
        "id": "Bso5g54MPoLo"
      }
    },
    {
      "cell_type": "code",
      "source": [
        "import re"
      ],
      "metadata": {
        "id": "fa5UZcNtPnQ8"
      },
      "execution_count": 47,
      "outputs": []
    },
    {
      "cell_type": "code",
      "source": [
        "pattern = re.compile('Chapter [0-9]+')\n",
        "re.findall(pattern, book)"
      ],
      "metadata": {
        "colab": {
          "base_uri": "https://localhost:8080/"
        },
        "collapsed": true,
        "id": "QxlzzT8sPzYH",
        "outputId": "ef1880ac-7561-42fa-8a89-6141dc22c6e9"
      },
      "execution_count": 48,
      "outputs": [
        {
          "output_type": "execute_result",
          "data": {
            "text/plain": [
              "['Chapter 1',\n",
              " 'Chapter 2',\n",
              " 'Chapter 3',\n",
              " 'Chapter 4',\n",
              " 'Chapter 5',\n",
              " 'Chapter 6',\n",
              " 'Chapter 7',\n",
              " 'Chapter 8',\n",
              " 'Chapter 9',\n",
              " 'Chapter 10']"
            ]
          },
          "metadata": {},
          "execution_count": 48
        }
      ]
    },
    {
      "cell_type": "code",
      "source": [
        "len(re.findall(pattern, book))"
      ],
      "metadata": {
        "colab": {
          "base_uri": "https://localhost:8080/"
        },
        "id": "dvh8SUE_Qabz",
        "outputId": "564369ff-2a37-4951-aaf7-d7fa463b5940"
      },
      "execution_count": 49,
      "outputs": [
        {
          "output_type": "execute_result",
          "data": {
            "text/plain": [
              "10"
            ]
          },
          "metadata": {},
          "execution_count": 49
        }
      ]
    },
    {
      "cell_type": "markdown",
      "source": [
        "**What are the sentences where \"love\" was used?**"
      ],
      "metadata": {
        "id": "POoBzinFUSJJ"
      }
    },
    {
      "cell_type": "code",
      "source": [
        "pattern = re.compile('[a-zA-Z]* love [a-zA-Z]*')\n",
        "re.findall(pattern, book)[:10]"
      ],
      "metadata": {
        "colab": {
          "base_uri": "https://localhost:8080/"
        },
        "collapsed": true,
        "id": "14tHixfuVORF",
        "outputId": "a352d763-a831-450c-bd32-e5d283fd61c9"
      },
      "execution_count": 54,
      "outputs": [
        {
          "output_type": "execute_result",
          "data": {
            "text/plain": [
              "['passionate love for',\n",
              " 'a love of',\n",
              " 'to love the',\n",
              " 'in love with',\n",
              " 'the love and',\n",
              " 'a love for',\n",
              " 'mother love it',\n",
              " 'and love and',\n",
              " 'her love and',\n",
              " 'his love for']"
            ]
          },
          "metadata": {},
          "execution_count": 54
        }
      ]
    },
    {
      "cell_type": "code",
      "source": [
        "pattern = re.compile('[a-zA-Z ,]* love [a-zA-Z .]*')\n",
        "re.findall(pattern, book)[:1]"
      ],
      "metadata": {
        "collapsed": true,
        "id": "5yDEoPAcWMJR"
      },
      "execution_count": null,
      "outputs": []
    },
    {
      "cell_type": "code",
      "source": [
        "pattern = re.compile('[^.]* love [a-zA-Z ]*.')\n",
        "re.findall(pattern, book)[:1]"
      ],
      "metadata": {
        "colab": {
          "base_uri": "https://localhost:8080/"
        },
        "collapsed": true,
        "id": "PwUBImeCW0F8",
        "outputId": "a39dc662-9a11-44fc-f066-f5eb07358247"
      },
      "execution_count": 32,
      "outputs": [
        {
          "output_type": "execute_result",
          "data": {
            "text/plain": [
              "[' As a young man, of course, I could not put these things into words, but I knew, and my teammates knew, that there was something special about the game, and under the guidance of the Christian Brothers we developed a passionate love for the sport that shaped our friendships and our lives.']"
            ]
          },
          "metadata": {},
          "execution_count": 32
        }
      ]
    },
    {
      "cell_type": "code",
      "source": [
        "pattern = re.compile('[^.]* love [^.]*.')\n",
        "re.findall(pattern, book)[:1]"
      ],
      "metadata": {
        "colab": {
          "base_uri": "https://localhost:8080/"
        },
        "collapsed": true,
        "id": "ikSew8AWXu7D",
        "outputId": "7e79d49f-767a-4e13-93be-d9f7b8917d68"
      },
      "execution_count": 34,
      "outputs": [
        {
          "output_type": "execute_result",
          "data": {
            "text/plain": [
              "[' As a young man, of course, I could not put these things into words, but I knew, and my teammates knew, that there was something special about the game, and under the guidance of the Christian Brothers we developed a passionate love for the sport that shaped our friendships and our lives.']"
            ]
          },
          "metadata": {},
          "execution_count": 34
        }
      ]
    },
    {
      "cell_type": "markdown",
      "source": [
        "length of sentences that has - love |not love,"
      ],
      "metadata": {
        "id": "rK2KCy3sbK8V"
      }
    },
    {
      "cell_type": "code",
      "source": [
        "pattern = re.compile('[^.]* love [^.]*.')\n",
        "len(re.findall(pattern, book))"
      ],
      "metadata": {
        "colab": {
          "base_uri": "https://localhost:8080/"
        },
        "id": "xdQ-tUJ4ZJX6",
        "outputId": "1f817f21-e57c-4550-8403-173af9632995"
      },
      "execution_count": 36,
      "outputs": [
        {
          "output_type": "execute_result",
          "data": {
            "text/plain": [
              "49"
            ]
          },
          "metadata": {},
          "execution_count": 36
        }
      ]
    },
    {
      "cell_type": "markdown",
      "source": [
        "length of sentences that has - love,"
      ],
      "metadata": {
        "id": "Qg6yxdGAbBew"
      }
    },
    {
      "cell_type": "code",
      "source": [
        "pattern = re.compile('[^.]*[^a-zA-Z]+love[^a-zA-Z]+[^.]*.')\n",
        "len(re.findall(pattern, book))"
      ],
      "metadata": {
        "collapsed": true,
        "id": "2J0GeqjCYodN"
      },
      "execution_count": null,
      "outputs": []
    },
    {
      "cell_type": "markdown",
      "source": [
        "to get rid of spaces before sentence start"
      ],
      "metadata": {
        "id": "aGyAux3-a8I2"
      }
    },
    {
      "cell_type": "code",
      "source": [
        "pattern = re.compile('[A-Z]{1}[^.]*[^a-zA-Z]+love[^a-zA-Z]+[^.]*.')\n",
        "re.findall(pattern, book)[:2]"
      ],
      "metadata": {
        "colab": {
          "base_uri": "https://localhost:8080/"
        },
        "collapsed": true,
        "id": "YJO7BYcqavhe",
        "outputId": "522049e2-2751-40ef-acfe-8ec272b59548"
      },
      "execution_count": 38,
      "outputs": [
        {
          "output_type": "execute_result",
          "data": {
            "text/plain": [
              "['As a young man, of course, I could not put these things into words, but I knew, and my teammates knew, that there was something special about the game, and under the guidance of the Christian Brothers we developed a passionate love for the sport that shaped our friendships and our lives.',\n",
              " 'Guido and I grew up together, playing soccer and sharing a love of motorcycles, cars, and auto racing.']"
            ]
          },
          "metadata": {},
          "execution_count": 38
        }
      ]
    },
    {
      "cell_type": "markdown",
      "source": [
        "**What are the most used words?**"
      ],
      "metadata": {
        "id": "luJa_qDUbnNd"
      }
    },
    {
      "cell_type": "markdown",
      "source": [
        "We cannot use split method"
      ],
      "metadata": {
        "id": "hBbngdCMELil"
      }
    },
    {
      "cell_type": "code",
      "source": [
        "book.split()[:10]         # to get list"
      ],
      "metadata": {
        "colab": {
          "base_uri": "https://localhost:8080/"
        },
        "collapsed": true,
        "id": "FRinR220btlD",
        "outputId": "dd311441-d671-4e7e-f72f-6b0c35cf7fad"
      },
      "execution_count": 41,
      "outputs": [
        {
          "output_type": "execute_result",
          "data": {
            "text/plain": [
              "['Chapter',\n",
              " '1',\n",
              " 'Before',\n",
              " 'IT',\n",
              " 'WAS',\n",
              " 'FRIDAY,',\n",
              " 'the',\n",
              " 'thirteenth',\n",
              " 'of',\n",
              " 'October.']"
            ]
          },
          "metadata": {},
          "execution_count": 41
        }
      ]
    },
    {
      "cell_type": "code",
      "source": [
        "pattern = re.compile('[a-zA-Z]+')\n",
        "len(re.findall(pattern, book.lower()))"
      ],
      "metadata": {
        "id": "f6eOlApXfIpK"
      },
      "execution_count": null,
      "outputs": []
    },
    {
      "cell_type": "code",
      "source": [
        "d = {}\n",
        "for word in re.findall(pattern, book.lower()):\n",
        "    if word in d:\n",
        "        d[word] += 1\n",
        "    else:\n",
        "        d[word] = 1"
      ],
      "metadata": {
        "id": "QtNwBWv_fjxD"
      },
      "execution_count": 44,
      "outputs": []
    },
    {
      "cell_type": "code",
      "source": [
        "d_list = [(value, key) for (key, value) in d.items()]\n",
        "sorted(d_list, reverse=True)[:10]"
      ],
      "metadata": {
        "colab": {
          "base_uri": "https://localhost:8080/"
        },
        "collapsed": true,
        "id": "glDIlx6bgnBu",
        "outputId": "090c1cd7-b1b8-42cc-c23b-2253d44b9135"
      },
      "execution_count": 55,
      "outputs": [
        {
          "output_type": "execute_result",
          "data": {
            "text/plain": [
              "[(5346, 'the'),\n",
              " (2795, 'and'),\n",
              " (2729, 'i'),\n",
              " (2400, 'to'),\n",
              " (2060, 'of'),\n",
              " (1566, 'a'),\n",
              " (1430, 'was'),\n",
              " (1419, 'in'),\n",
              " (1226, 'we'),\n",
              " (1169, 'my')]"
            ]
          },
          "metadata": {},
          "execution_count": 55
        }
      ]
    },
    {
      "cell_type": "markdown",
      "source": [
        "**Extract the paragraph where \"love\" was used?**"
      ],
      "metadata": {
        "id": "uEVUJJ2Mi27L"
      }
    },
    {
      "cell_type": "code",
      "source": [
        "pattern = re.compile('[^\\n]+love[^\\n]+')\n",
        "re.findall(pattern, book)[:2]\n"
      ],
      "metadata": {
        "collapsed": true,
        "id": "LaCzNBGmhSI6"
      },
      "execution_count": null,
      "outputs": []
    },
    {
      "cell_type": "markdown",
      "source": [
        "Get Chapter names"
      ],
      "metadata": {
        "id": "IZciNo_3DcE-"
      }
    },
    {
      "cell_type": "code",
      "source": [
        "pattern = re.compile('([a-zA-Z]+)\\n\\n')\n",
        "re.findall(pattern, book)\n"
      ],
      "metadata": {
        "colab": {
          "base_uri": "https://localhost:8080/"
        },
        "id": "GjpvK6tZYZA0",
        "outputId": "eb868fe5-6817-41e2-91f5-ffc5cac9221b"
      },
      "execution_count": 46,
      "outputs": [
        {
          "output_type": "execute_result",
          "data": {
            "text/plain": [
              "['Before',\n",
              " 'Precious',\n",
              " 'Promise',\n",
              " 'More',\n",
              " 'Abandoned',\n",
              " 'Tomb',\n",
              " 'East',\n",
              " 'Death',\n",
              " 'Man',\n",
              " 'After']"
            ]
          },
          "metadata": {},
          "execution_count": 46
        }
      ]
    },
    {
      "cell_type": "markdown",
      "source": [
        "Finding words"
      ],
      "metadata": {
        "id": "6-UUeDrlDhas"
      }
    },
    {
      "cell_type": "code",
      "source": [
        "def find(word):\n",
        "    pattern = re.compile('[a-zA-Z]+')\n",
        "    result = re.findall(pattern, book.lower())\n",
        "    d = {}\n",
        "    for word in result:\n",
        "        if word in d.keys():\n",
        "            d[word] = d[word] + 1\n",
        "        else:\n",
        "            d[word] = 1\n",
        "    try:\n",
        "        return d[word]\n",
        "    except:\n",
        "        return f'The book doesnot contain the word \"{word}\"'"
      ],
      "metadata": {
        "id": "TlYcwzdKcC23"
      },
      "execution_count": null,
      "outputs": []
    },
    {
      "cell_type": "code",
      "source": [
        "find(\"hate\")"
      ],
      "metadata": {
        "id": "4tf2xaqNcvNr"
      },
      "execution_count": null,
      "outputs": []
    }
  ]
}